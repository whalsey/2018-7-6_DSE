{
 "cells": [
  {
   "cell_type": "markdown",
   "metadata": {},
   "source": [
    "__TASKS__\n",
    "\n",
    "1. READ IN TARGETS DATA  \n",
    "\n",
    "2. SORT TARGETS DATA\n",
    "    \n",
    "3. ADD FEATURES TO DATA FOR POSSIBLE FUTURE USE\n",
    "    \n",
    "4. SAVE\n",
    "    "
   ]
  },
  {
   "cell_type": "code",
   "execution_count": 1,
   "metadata": {},
   "outputs": [
    {
     "name": "stderr",
     "output_type": "stream",
     "text": [
      "DEBUG:matplotlib.backends:backend module://ipykernel.pylab.backend_inline version unknown\n"
     ]
    }
   ],
   "source": [
    "# import libraries that will be used throughout the analysis\n",
    "import pandas as pd\n",
    "import numpy as np\n",
    "import matplotlib.pyplot as plt\n",
    "\n",
    "import logging\n",
    "logging.basicConfig(level=logging.DEBUG)"
   ]
  },
  {
   "cell_type": "code",
   "execution_count": 2,
   "metadata": {},
   "outputs": [
    {
     "name": "stderr",
     "output_type": "stream",
     "text": [
      "DEBUG:root:READING IN 2016 TARGET SET...\n",
      "DEBUG:root:READING IN 2017 TARGET SET...\n"
     ]
    }
   ],
   "source": [
    "logging.debug(\"READING IN 2016 TARGET SET...\")\n",
    "target_2016_df = pd.read_csv(\"Input/train_2016_v2.csv\")\n",
    "\n",
    "logging.debug(\"READING IN 2017 TARGET SET...\")\n",
    "target_2017_df = pd.read_csv(\"Input/train_2017.csv\")"
   ]
  },
  {
   "cell_type": "code",
   "execution_count": 3,
   "metadata": {},
   "outputs": [
    {
     "name": "stderr",
     "output_type": "stream",
     "text": [
      "DEBUG:root:['2016-01-01', '2016-01-02', '2016-01-03', '2016-01-04', '2016-01-05', '2016-01-06', '2016-01-07', '2016-01-08', '2016-01-09', '2016-01-10', '2016-01-11', '2016-01-12', '2016-01-13', '2016-01-14', '2016-01-15', '2016-01-16', '2016-01-17', '2016-01-18', '2016-01-19', '2016-01-20', '2016-01-21', '2016-01-22', '2016-01-23', '2016-01-24', '2016-01-25', '2016-01-26', '2016-01-27', '2016-01-28', '2016-01-29', '2016-01-30', '2016-01-31', '2016-02-01', '2016-02-02', '2016-02-03', '2016-02-04', '2016-02-05', '2016-02-06', '2016-02-07', '2016-02-08', '2016-02-09', '2016-02-10', '2016-02-11', '2016-02-12', '2016-02-13', '2016-02-14', '2016-02-15', '2016-02-16', '2016-02-17', '2016-02-18', '2016-02-19']\n",
      "...\n",
      "['2016-11-06', '2016-11-07', '2016-11-08', '2016-11-09', '2016-11-10', '2016-11-12', '2016-11-13', '2016-11-14', '2016-11-15', '2016-11-16', '2016-11-17', '2016-11-18', '2016-11-19', '2016-11-20', '2016-11-21', '2016-11-22', '2016-11-23', '2016-11-24', '2016-11-27', '2016-11-28', '2016-11-29', '2016-11-30', '2016-12-01', '2016-12-02', '2016-12-04', '2016-12-05', '2016-12-06', '2016-12-07', '2016-12-08', '2016-12-09', '2016-12-11', '2016-12-12', '2016-12-13', '2016-12-14', '2016-12-15', '2016-12-16', '2016-12-17', '2016-12-18', '2016-12-19', '2016-12-20', '2016-12-21', '2016-12-22', '2016-12-23', '2016-12-24', '2016-12-25', '2016-12-26', '2016-12-27', '2016-12-28', '2016-12-29', '2016-12-30']\n"
     ]
    }
   ],
   "source": [
    "# before we plot the values we need to sort the data by date. first we will create a list of unique dates (to sort)\n",
    "# and a dictionary of corresponding values\n",
    "unique_dates = []\n",
    "accumulated_values = {}\n",
    "\n",
    "for id, row in target_2016_df.iterrows():\n",
    "    e = row['logerror']\n",
    "    d = row['transactiondate']\n",
    "    p = row['parcelid']\n",
    "    \n",
    "    try:\n",
    "        accumulated_values[d].append((p, e))\n",
    "    except KeyError:\n",
    "        unique_dates.append(d)\n",
    "        accumulated_values[d] = [(p, e)]\n",
    "        \n",
    "unique_dates.sort()\n",
    "\n",
    "logging.debug(\"{}\\n...\\n{}\".format(unique_dates[:50], unique_dates[-50:]))"
   ]
  },
  {
   "cell_type": "code",
   "execution_count": 4,
   "metadata": {},
   "outputs": [
    {
     "name": "stderr",
     "output_type": "stream",
     "text": [
      "DEBUG:root:['2017-01-01', '2017-01-02', '2017-01-03', '2017-01-04', '2017-01-05', '2017-01-06', '2017-01-07', '2017-01-08', '2017-01-09', '2017-01-10', '2017-01-11', '2017-01-12', '2017-01-13', '2017-01-14', '2017-01-15', '2017-01-16', '2017-01-17', '2017-01-18', '2017-01-19', '2017-01-20', '2017-01-21', '2017-01-22', '2017-01-23', '2017-01-24', '2017-01-25', '2017-01-26', '2017-01-27', '2017-01-28', '2017-01-29', '2017-01-30', '2017-01-31', '2017-02-01', '2017-02-02', '2017-02-03', '2017-02-04', '2017-02-05', '2017-02-06', '2017-02-07', '2017-02-08', '2017-02-09', '2017-02-10', '2017-02-11', '2017-02-12', '2017-02-13', '2017-02-14', '2017-02-15', '2017-02-16', '2017-02-17', '2017-02-18', '2017-02-19']\n",
      "...\n",
      "['2017-08-03', '2017-08-04', '2017-08-05', '2017-08-06', '2017-08-07', '2017-08-08', '2017-08-09', '2017-08-10', '2017-08-11', '2017-08-12', '2017-08-13', '2017-08-14', '2017-08-15', '2017-08-16', '2017-08-17', '2017-08-18', '2017-08-19', '2017-08-20', '2017-08-21', '2017-08-22', '2017-08-23', '2017-08-24', '2017-08-25', '2017-08-26', '2017-08-27', '2017-08-28', '2017-08-29', '2017-08-30', '2017-08-31', '2017-09-01', '2017-09-02', '2017-09-04', '2017-09-05', '2017-09-06', '2017-09-07', '2017-09-08', '2017-09-09', '2017-09-10', '2017-09-11', '2017-09-12', '2017-09-13', '2017-09-14', '2017-09-15', '2017-09-16', '2017-09-17', '2017-09-18', '2017-09-19', '2017-09-20', '2017-09-21', '2017-09-25']\n"
     ]
    }
   ],
   "source": [
    "# before we plot the values we need to sort the data by date. first we will create a list of unique dates (to sort)\n",
    "# and a dictionary of corresponding values\n",
    "unique_dates = []\n",
    "accumulated_values = {}\n",
    "\n",
    "for id, row in target_2017_df.iterrows():\n",
    "    e = row['logerror']\n",
    "    d = row['transactiondate']\n",
    "    p = row['parcelid']\n",
    "    \n",
    "    try:\n",
    "        accumulated_values[d].append((p, e))\n",
    "    except KeyError:\n",
    "        unique_dates.append(d)\n",
    "        accumulated_values[d] = [(p, e)]\n",
    "        \n",
    "unique_dates.sort()\n",
    "\n",
    "logging.debug(\"{}\\n...\\n{}\".format(unique_dates[:50], unique_dates[-50:]))"
   ]
  },
  {
   "cell_type": "markdown",
   "metadata": {
    "collapsed": true
   },
   "source": [
    "_After some time away from analysis, I had a surprising thought. No EDA that I had looked into even explored the effect that the day of the week may have had on a given sale. I will add that weekday feature to the data and see if it yields any trends._"
   ]
  },
  {
   "cell_type": "code",
   "execution_count": 5,
   "metadata": {},
   "outputs": [
    {
     "name": "stderr",
     "output_type": "stream",
     "text": [
      "DEBUG:root:       parcelid  logerror transactiondate  weekday  year  month  day\n",
      "0      11016594    0.0276      2016-01-01        4  2016      1    1\n",
      "1      14366692   -0.1684      2016-01-01        4  2016      1    1\n",
      "2      12098116   -0.0040      2016-01-01        4  2016      1    1\n",
      "3      12643413    0.0218      2016-01-02        5  2016      1    2\n",
      "4      14432541   -0.0050      2016-01-02        5  2016      1    2\n",
      "5      11509835   -0.2705      2016-01-02        5  2016      1    2\n",
      "6      12286022    0.0440      2016-01-02        5  2016      1    2\n",
      "7      17177301    0.1638      2016-01-02        5  2016      1    2\n",
      "8      14739064   -0.0030      2016-01-02        5  2016      1    2\n",
      "9      14677559    0.0843      2016-01-03        6  2016      1    3\n",
      "10     10854446    0.3825      2016-01-03        6  2016      1    3\n",
      "11     11672170   -0.0161      2016-01-03        6  2016      1    3\n",
      "12     10949761    0.0344      2016-01-03        6  2016      1    3\n",
      "13     14665244    0.0816      2016-01-03        6  2016      1    3\n",
      "14     14148540   -0.0450      2016-01-03        6  2016      1    3\n",
      "15     14057104    0.0020      2016-01-03        6  2016      1    3\n",
      "16     17296797    0.0440      2016-01-03        6  2016      1    3\n",
      "17     12524288   -0.0419      2016-01-03        6  2016      1    3\n",
      "18     14091502   -0.0020      2016-01-03        6  2016      1    3\n",
      "19     10815909    0.0100      2016-01-03        6  2016      1    3\n",
      "20     12453853   -0.0387      2016-01-03        6  2016      1    3\n",
      "21     14253461    0.0218      2016-01-03        6  2016      1    3\n",
      "22     14001034    0.0149      2016-01-03        6  2016      1    3\n",
      "23     11458863    0.1151      2016-01-03        6  2016      1    3\n",
      "24     13957980   -0.1696      2016-01-03        6  2016      1    3\n",
      "25     12752047   -0.0440      2016-01-03        6  2016      1    3\n",
      "26     11188425   -0.0747      2016-01-03        6  2016      1    3\n",
      "27     14646051    0.0080      2016-01-03        6  2016      1    3\n",
      "28     10805063    0.0010      2016-01-03        6  2016      1    3\n",
      "29     12524725   -0.0534      2016-01-03        6  2016      1    3\n",
      "...         ...       ...             ...      ...   ...    ...  ...\n",
      "90245  10757551    0.0953      2016-12-30        4  2016     12   30\n",
      "90246  12558267    0.0139      2016-12-30        4  2016     12   30\n",
      "90247  11710734    0.2095      2016-12-30        4  2016     12   30\n",
      "90248  14347592    0.0080      2016-12-30        4  2016     12   30\n",
      "90249  11341061   -0.1312      2016-12-30        4  2016     12   30\n",
      "90250  14027878    0.0421      2016-12-30        4  2016     12   30\n",
      "90251  12756771    0.0658      2016-12-30        4  2016     12   30\n",
      "90252  12758333    0.0030      2016-12-30        4  2016     12   30\n",
      "90253  11295458   -0.0294      2016-12-30        4  2016     12   30\n",
      "90254  12757889   -0.0111      2016-12-30        4  2016     12   30\n",
      "90255  11308315    0.0070      2016-12-30        4  2016     12   30\n",
      "90256  14353215    0.0218      2016-12-30        4  2016     12   30\n",
      "90257  10753416    0.0526      2016-12-30        4  2016     12   30\n",
      "90258  11756902    0.0889      2016-12-30        4  2016     12   30\n",
      "90259  11994047    0.0178      2016-12-30        4  2016     12   30\n",
      "90260  11440746    0.0237      2016-12-30        4  2016     12   30\n",
      "90261  11703478    0.0431      2016-12-30        4  2016     12   30\n",
      "90262  10965821   -0.2231      2016-12-30        4  2016     12   30\n",
      "90263  12067066    0.1398      2016-12-30        4  2016     12   30\n",
      "90264  11683263    0.0478      2016-12-30        4  2016     12   30\n",
      "90265  12062080   -0.3769      2016-12-30        4  2016     12   30\n",
      "90266  12265636   -0.0030      2016-12-30        4  2016     12   30\n",
      "90267  17109680    0.0010      2016-12-30        4  2016     12   30\n",
      "90268  12268527   -0.0151      2016-12-30        4  2016     12   30\n",
      "90269  12920746    0.0344      2016-12-30        4  2016     12   30\n",
      "90270  10774160   -0.0356      2016-12-30        4  2016     12   30\n",
      "90271  12046695    0.0070      2016-12-30        4  2016     12   30\n",
      "90272  12995401   -0.2679      2016-12-30        4  2016     12   30\n",
      "90273  11402105    0.0602      2016-12-30        4  2016     12   30\n",
      "90274  12566293    0.4207      2016-12-30        4  2016     12   30\n",
      "\n",
      "[90275 rows x 7 columns]\n"
     ]
    }
   ],
   "source": [
    "import datetime\n",
    "\n",
    "weekday = []\n",
    "year = []\n",
    "month = []\n",
    "day = []\n",
    "\n",
    "for id, row in target_2016_df.iterrows():\n",
    "    y, m, d = row['transactiondate'].split('-')\n",
    "    \n",
    "    weekday.append(datetime.date(int(y), int(m), int(d)).weekday())\n",
    "    year.append(int(y))\n",
    "    month.append(int(m))\n",
    "    day.append(int(d))\n",
    "    \n",
    "target_2016_df['weekday'] = np.array(weekday)\n",
    "target_2016_df['year'] = np.array(year)\n",
    "target_2016_df['month'] = np.array(month)\n",
    "target_2016_df['day'] = np.array(day)\n",
    "\n",
    "logging.debug(target_2016_df)"
   ]
  },
  {
   "cell_type": "code",
   "execution_count": 6,
   "metadata": {},
   "outputs": [
    {
     "name": "stderr",
     "output_type": "stream",
     "text": [
      "DEBUG:root:       parcelid  logerror transactiondate  weekday  year  month  day\n",
      "0      14297519  0.025595      2017-01-01        6  2017      1    1\n",
      "1      17052889  0.055619      2017-01-01        6  2017      1    1\n",
      "2      14186244  0.005383      2017-01-01        6  2017      1    1\n",
      "3      12177905 -0.103410      2017-01-01        6  2017      1    1\n",
      "4      10887214  0.006940      2017-01-01        6  2017      1    1\n",
      "5      17143294 -0.020526      2017-01-01        6  2017      1    1\n",
      "6      12095076 -0.001011      2017-01-01        6  2017      1    1\n",
      "7      12069064  0.101723      2017-01-01        6  2017      1    1\n",
      "8      12790562 -0.040966      2017-01-02        0  2017      1    2\n",
      "9      11542646 -0.036763      2017-01-02        0  2017      1    2\n",
      "10     11104527  0.005963      2017-01-02        0  2017      1    2\n",
      "11     13984101 -0.147997      2017-01-02        0  2017      1    2\n",
      "12     14705431 -0.028835      2017-01-02        0  2017      1    2\n",
      "13     13944538  0.045602      2017-01-02        0  2017      1    2\n",
      "14     14731691 -0.008935      2017-01-02        0  2017      1    2\n",
      "15     17110996  0.008669      2017-01-02        0  2017      1    2\n",
      "16     14375300 -0.021896      2017-01-02        0  2017      1    2\n",
      "17     12045625 -0.017167      2017-01-02        0  2017      1    2\n",
      "18     11830315 -0.035085      2017-01-02        0  2017      1    2\n",
      "19     14730402 -0.012041      2017-01-02        0  2017      1    2\n",
      "20     12325145  0.042463      2017-01-02        0  2017      1    2\n",
      "21     14387959 -0.006653      2017-01-02        0  2017      1    2\n",
      "22     14349322  0.044309      2017-01-02        0  2017      1    2\n",
      "23     11706737 -0.120976      2017-01-02        0  2017      1    2\n",
      "24     11671335 -0.000546      2017-01-02        0  2017      1    2\n",
      "25     12531488  0.042041      2017-01-02        0  2017      1    2\n",
      "26     14314879 -0.001476      2017-01-02        0  2017      1    2\n",
      "27     11130689  0.020110      2017-01-02        0  2017      1    2\n",
      "28     12036177  0.206470      2017-01-02        0  2017      1    2\n",
      "29     14333888 -0.025392      2017-01-02        0  2017      1    2\n",
      "...         ...       ...             ...      ...   ...    ...  ...\n",
      "77583  12651460  0.094750      2017-09-19        1  2017      9   19\n",
      "77584  10962691 -0.064765      2017-09-19        1  2017      9   19\n",
      "77585  11487400  0.046755      2017-09-19        1  2017      9   19\n",
      "77586  12433997  0.018458      2017-09-19        1  2017      9   19\n",
      "77587  10855745  0.002138      2017-09-19        1  2017      9   19\n",
      "77588  12883894  1.285713      2017-09-19        1  2017      9   19\n",
      "77589  12885530  0.003457      2017-09-19        1  2017      9   19\n",
      "77590  11490983 -0.036067      2017-09-19        1  2017      9   19\n",
      "77591  12401161 -0.232215      2017-09-19        1  2017      9   19\n",
      "77592  11068972  0.015806      2017-09-19        1  2017      9   19\n",
      "77593  11490089  0.068838      2017-09-19        1  2017      9   19\n",
      "77594  12406123  0.000099      2017-09-19        1  2017      9   19\n",
      "77595  12669704  0.047467      2017-09-19        1  2017      9   19\n",
      "77596  12410050  0.000749      2017-09-19        1  2017      9   19\n",
      "77597  11953526 -0.159471      2017-09-19        1  2017      9   19\n",
      "77598  11608641 -0.816510      2017-09-19        1  2017      9   19\n",
      "77599  11978003 -0.062404      2017-09-19        1  2017      9   19\n",
      "77600  11318911  0.013268      2017-09-19        1  2017      9   19\n",
      "77601  10722237  0.052630      2017-09-19        1  2017      9   19\n",
      "77602  12055795 -0.140881      2017-09-19        1  2017      9   19\n",
      "77603  12892446  0.319408      2017-09-19        1  2017      9   19\n",
      "77604  12666457  0.028733      2017-09-19        1  2017      9   19\n",
      "77605  10858613 -0.075465      2017-09-19        1  2017      9   19\n",
      "77606  10722691  0.081196      2017-09-19        1  2017      9   19\n",
      "77607  12412492  0.001082      2017-09-19        1  2017      9   19\n",
      "77608  10833991 -0.002245      2017-09-20        2  2017      9   20\n",
      "77609  11000655  0.020615      2017-09-20        2  2017      9   20\n",
      "77610  17239384  0.013209      2017-09-21        3  2017      9   21\n",
      "77611  12773139  0.037129      2017-09-21        3  2017      9   21\n",
      "77612  12826780  0.007204      2017-09-25        0  2017      9   25\n",
      "\n",
      "[77613 rows x 7 columns]\n"
     ]
    }
   ],
   "source": [
    "import datetime\n",
    "\n",
    "weekday = []\n",
    "year = []\n",
    "month = []\n",
    "day = []\n",
    "\n",
    "for id, row in target_2017_df.iterrows():\n",
    "    y, m, d = row['transactiondate'].split('-')\n",
    "    \n",
    "    weekday.append(datetime.date(int(y), int(m), int(d)).weekday())\n",
    "    year.append(int(y))\n",
    "    month.append(int(m))\n",
    "    day.append(int(d))\n",
    "    \n",
    "target_2017_df['weekday'] = np.array(weekday)\n",
    "target_2017_df['year'] = np.array(year)\n",
    "target_2017_df['month'] = np.array(month)\n",
    "target_2017_df['day'] = np.array(day)\n",
    "\n",
    "logging.debug(target_2017_df)"
   ]
  },
  {
   "cell_type": "markdown",
   "metadata": {},
   "source": [
    "_We could also use holiday and weather information, potentially, if we try to train a model to predict at a daily resolution._"
   ]
  },
  {
   "cell_type": "code",
   "execution_count": 7,
   "metadata": {},
   "outputs": [
    {
     "name": "stderr",
     "output_type": "stream",
     "text": [
      "DEBUG:root:       parcelid  logerror transactiondate  weekday  year  month  day  holiday\n",
      "0      11016594    0.0276      2016-01-01        4  2016      1    1        1\n",
      "1      14366692   -0.1684      2016-01-01        4  2016      1    1        1\n",
      "2      12098116   -0.0040      2016-01-01        4  2016      1    1        1\n",
      "3      12643413    0.0218      2016-01-02        5  2016      1    2        0\n",
      "4      14432541   -0.0050      2016-01-02        5  2016      1    2        0\n",
      "5      11509835   -0.2705      2016-01-02        5  2016      1    2        0\n",
      "6      12286022    0.0440      2016-01-02        5  2016      1    2        0\n",
      "7      17177301    0.1638      2016-01-02        5  2016      1    2        0\n",
      "8      14739064   -0.0030      2016-01-02        5  2016      1    2        0\n",
      "9      14677559    0.0843      2016-01-03        6  2016      1    3        0\n",
      "10     10854446    0.3825      2016-01-03        6  2016      1    3        0\n",
      "11     11672170   -0.0161      2016-01-03        6  2016      1    3        0\n",
      "12     10949761    0.0344      2016-01-03        6  2016      1    3        0\n",
      "13     14665244    0.0816      2016-01-03        6  2016      1    3        0\n",
      "14     14148540   -0.0450      2016-01-03        6  2016      1    3        0\n",
      "15     14057104    0.0020      2016-01-03        6  2016      1    3        0\n",
      "16     17296797    0.0440      2016-01-03        6  2016      1    3        0\n",
      "17     12524288   -0.0419      2016-01-03        6  2016      1    3        0\n",
      "18     14091502   -0.0020      2016-01-03        6  2016      1    3        0\n",
      "19     10815909    0.0100      2016-01-03        6  2016      1    3        0\n",
      "20     12453853   -0.0387      2016-01-03        6  2016      1    3        0\n",
      "21     14253461    0.0218      2016-01-03        6  2016      1    3        0\n",
      "22     14001034    0.0149      2016-01-03        6  2016      1    3        0\n",
      "23     11458863    0.1151      2016-01-03        6  2016      1    3        0\n",
      "24     13957980   -0.1696      2016-01-03        6  2016      1    3        0\n",
      "25     12752047   -0.0440      2016-01-03        6  2016      1    3        0\n",
      "26     11188425   -0.0747      2016-01-03        6  2016      1    3        0\n",
      "27     14646051    0.0080      2016-01-03        6  2016      1    3        0\n",
      "28     10805063    0.0010      2016-01-03        6  2016      1    3        0\n",
      "29     12524725   -0.0534      2016-01-03        6  2016      1    3        0\n",
      "...         ...       ...             ...      ...   ...    ...  ...      ...\n",
      "90245  10757551    0.0953      2016-12-30        4  2016     12   30        0\n",
      "90246  12558267    0.0139      2016-12-30        4  2016     12   30        0\n",
      "90247  11710734    0.2095      2016-12-30        4  2016     12   30        0\n",
      "90248  14347592    0.0080      2016-12-30        4  2016     12   30        0\n",
      "90249  11341061   -0.1312      2016-12-30        4  2016     12   30        0\n",
      "90250  14027878    0.0421      2016-12-30        4  2016     12   30        0\n",
      "90251  12756771    0.0658      2016-12-30        4  2016     12   30        0\n",
      "90252  12758333    0.0030      2016-12-30        4  2016     12   30        0\n",
      "90253  11295458   -0.0294      2016-12-30        4  2016     12   30        0\n",
      "90254  12757889   -0.0111      2016-12-30        4  2016     12   30        0\n",
      "90255  11308315    0.0070      2016-12-30        4  2016     12   30        0\n",
      "90256  14353215    0.0218      2016-12-30        4  2016     12   30        0\n",
      "90257  10753416    0.0526      2016-12-30        4  2016     12   30        0\n",
      "90258  11756902    0.0889      2016-12-30        4  2016     12   30        0\n",
      "90259  11994047    0.0178      2016-12-30        4  2016     12   30        0\n",
      "90260  11440746    0.0237      2016-12-30        4  2016     12   30        0\n",
      "90261  11703478    0.0431      2016-12-30        4  2016     12   30        0\n",
      "90262  10965821   -0.2231      2016-12-30        4  2016     12   30        0\n",
      "90263  12067066    0.1398      2016-12-30        4  2016     12   30        0\n",
      "90264  11683263    0.0478      2016-12-30        4  2016     12   30        0\n",
      "90265  12062080   -0.3769      2016-12-30        4  2016     12   30        0\n",
      "90266  12265636   -0.0030      2016-12-30        4  2016     12   30        0\n",
      "90267  17109680    0.0010      2016-12-30        4  2016     12   30        0\n",
      "90268  12268527   -0.0151      2016-12-30        4  2016     12   30        0\n",
      "90269  12920746    0.0344      2016-12-30        4  2016     12   30        0\n",
      "90270  10774160   -0.0356      2016-12-30        4  2016     12   30        0\n",
      "90271  12046695    0.0070      2016-12-30        4  2016     12   30        0\n",
      "90272  12995401   -0.2679      2016-12-30        4  2016     12   30        0\n",
      "90273  11402105    0.0602      2016-12-30        4  2016     12   30        0\n",
      "90274  12566293    0.4207      2016-12-30        4  2016     12   30        0\n",
      "\n",
      "[90275 rows x 8 columns]\n"
     ]
    }
   ],
   "source": [
    "from pandas.tseries.holiday import USFederalHolidayCalendar\n",
    "\n",
    "holid = []\n",
    "\n",
    "cal = USFederalHolidayCalendar()\n",
    "holidays = cal.holidays(start=target_2016_df['transactiondate'].values[0], end=target_2016_df['transactiondate'].values[-1]).to_pydatetime()\n",
    "\n",
    "for id, row in target_2016_df.iterrows():\n",
    "    y, m, d = row['transactiondate'].split('-')\n",
    "\n",
    "    dt = datetime.datetime(int(y), int(m), int(d), 0, 0)\n",
    "    \n",
    "    if dt in holidays:\n",
    "        holid.append(1)\n",
    "    else:\n",
    "        holid.append(0)\n",
    "\n",
    "target_2016_df['holiday'] = np.array(holid)\n",
    "logging.debug(target_2016_df)"
   ]
  },
  {
   "cell_type": "code",
   "execution_count": 8,
   "metadata": {},
   "outputs": [
    {
     "name": "stderr",
     "output_type": "stream",
     "text": [
      "DEBUG:root:       parcelid  logerror transactiondate  weekday  year  month  day  holiday\n",
      "0      14297519  0.025595      2017-01-01        6  2017      1    1        0\n",
      "1      17052889  0.055619      2017-01-01        6  2017      1    1        0\n",
      "2      14186244  0.005383      2017-01-01        6  2017      1    1        0\n",
      "3      12177905 -0.103410      2017-01-01        6  2017      1    1        0\n",
      "4      10887214  0.006940      2017-01-01        6  2017      1    1        0\n",
      "5      17143294 -0.020526      2017-01-01        6  2017      1    1        0\n",
      "6      12095076 -0.001011      2017-01-01        6  2017      1    1        0\n",
      "7      12069064  0.101723      2017-01-01        6  2017      1    1        0\n",
      "8      12790562 -0.040966      2017-01-02        0  2017      1    2        1\n",
      "9      11542646 -0.036763      2017-01-02        0  2017      1    2        1\n",
      "10     11104527  0.005963      2017-01-02        0  2017      1    2        1\n",
      "11     13984101 -0.147997      2017-01-02        0  2017      1    2        1\n",
      "12     14705431 -0.028835      2017-01-02        0  2017      1    2        1\n",
      "13     13944538  0.045602      2017-01-02        0  2017      1    2        1\n",
      "14     14731691 -0.008935      2017-01-02        0  2017      1    2        1\n",
      "15     17110996  0.008669      2017-01-02        0  2017      1    2        1\n",
      "16     14375300 -0.021896      2017-01-02        0  2017      1    2        1\n",
      "17     12045625 -0.017167      2017-01-02        0  2017      1    2        1\n",
      "18     11830315 -0.035085      2017-01-02        0  2017      1    2        1\n",
      "19     14730402 -0.012041      2017-01-02        0  2017      1    2        1\n",
      "20     12325145  0.042463      2017-01-02        0  2017      1    2        1\n",
      "21     14387959 -0.006653      2017-01-02        0  2017      1    2        1\n",
      "22     14349322  0.044309      2017-01-02        0  2017      1    2        1\n",
      "23     11706737 -0.120976      2017-01-02        0  2017      1    2        1\n",
      "24     11671335 -0.000546      2017-01-02        0  2017      1    2        1\n",
      "25     12531488  0.042041      2017-01-02        0  2017      1    2        1\n",
      "26     14314879 -0.001476      2017-01-02        0  2017      1    2        1\n",
      "27     11130689  0.020110      2017-01-02        0  2017      1    2        1\n",
      "28     12036177  0.206470      2017-01-02        0  2017      1    2        1\n",
      "29     14333888 -0.025392      2017-01-02        0  2017      1    2        1\n",
      "...         ...       ...             ...      ...   ...    ...  ...      ...\n",
      "77583  12651460  0.094750      2017-09-19        1  2017      9   19        0\n",
      "77584  10962691 -0.064765      2017-09-19        1  2017      9   19        0\n",
      "77585  11487400  0.046755      2017-09-19        1  2017      9   19        0\n",
      "77586  12433997  0.018458      2017-09-19        1  2017      9   19        0\n",
      "77587  10855745  0.002138      2017-09-19        1  2017      9   19        0\n",
      "77588  12883894  1.285713      2017-09-19        1  2017      9   19        0\n",
      "77589  12885530  0.003457      2017-09-19        1  2017      9   19        0\n",
      "77590  11490983 -0.036067      2017-09-19        1  2017      9   19        0\n",
      "77591  12401161 -0.232215      2017-09-19        1  2017      9   19        0\n",
      "77592  11068972  0.015806      2017-09-19        1  2017      9   19        0\n",
      "77593  11490089  0.068838      2017-09-19        1  2017      9   19        0\n",
      "77594  12406123  0.000099      2017-09-19        1  2017      9   19        0\n",
      "77595  12669704  0.047467      2017-09-19        1  2017      9   19        0\n",
      "77596  12410050  0.000749      2017-09-19        1  2017      9   19        0\n",
      "77597  11953526 -0.159471      2017-09-19        1  2017      9   19        0\n",
      "77598  11608641 -0.816510      2017-09-19        1  2017      9   19        0\n",
      "77599  11978003 -0.062404      2017-09-19        1  2017      9   19        0\n",
      "77600  11318911  0.013268      2017-09-19        1  2017      9   19        0\n",
      "77601  10722237  0.052630      2017-09-19        1  2017      9   19        0\n",
      "77602  12055795 -0.140881      2017-09-19        1  2017      9   19        0\n",
      "77603  12892446  0.319408      2017-09-19        1  2017      9   19        0\n",
      "77604  12666457  0.028733      2017-09-19        1  2017      9   19        0\n",
      "77605  10858613 -0.075465      2017-09-19        1  2017      9   19        0\n",
      "77606  10722691  0.081196      2017-09-19        1  2017      9   19        0\n",
      "77607  12412492  0.001082      2017-09-19        1  2017      9   19        0\n",
      "77608  10833991 -0.002245      2017-09-20        2  2017      9   20        0\n",
      "77609  11000655  0.020615      2017-09-20        2  2017      9   20        0\n",
      "77610  17239384  0.013209      2017-09-21        3  2017      9   21        0\n",
      "77611  12773139  0.037129      2017-09-21        3  2017      9   21        0\n",
      "77612  12826780  0.007204      2017-09-25        0  2017      9   25        0\n",
      "\n",
      "[77613 rows x 8 columns]\n"
     ]
    }
   ],
   "source": [
    "holid = []\n",
    "\n",
    "cal = USFederalHolidayCalendar()\n",
    "holidays = cal.holidays(start=target_2017_df['transactiondate'].values[0], end=target_2017_df['transactiondate'].values[-1]).to_pydatetime()\n",
    "\n",
    "for id, row in target_2017_df.iterrows():\n",
    "    y, m, d = row['transactiondate'].split('-')\n",
    "\n",
    "    dt = datetime.datetime(int(y), int(m), int(d), 0, 0)\n",
    "    \n",
    "    if dt in holidays:\n",
    "        holid.append(1)\n",
    "    else:\n",
    "        holid.append(0)\n",
    "\n",
    "target_2017_df['holiday'] = np.array(holid)\n",
    "logging.debug(target_2017_df)"
   ]
  },
  {
   "cell_type": "markdown",
   "metadata": {},
   "source": [
    "_Finally, as stated earlier, let's add some weather information too._"
   ]
  },
  {
   "cell_type": "code",
   "execution_count": 9,
   "metadata": {},
   "outputs": [
    {
     "name": "stderr",
     "output_type": "stream",
     "text": [
      "DEBUG:root:READING IN WEATHER DATA...\n",
      "DEBUG:root:                          0           1           2\n",
      "parcelid           14297519    17052889    14186244\n",
      "logerror          0.0255949   0.0556191  0.00538285\n",
      "transactiondate  2017-01-01  2017-01-01  2017-01-01\n",
      "weekday                   6           6           6\n",
      "year                   2017        2017        2017\n",
      "month                     1           1           1\n",
      "day                       1           1           1\n",
      "holiday                   0           0           0\n",
      "DATE             2017-01-01  2017-01-01  2017-01-01\n",
      "AWND                   3.13        3.13        3.13\n",
      "PRCP                      0           0           0\n",
      "SNOW                      0           0           0\n",
      "SNWD                      0           0           0\n",
      "TAVG                     50          50          50\n",
      "TMAX                     58          58          58\n",
      "TMIN                     42          42          42\n",
      "WT01                      1           1           1\n",
      "WT02                    NaN         NaN         NaN\n",
      "WT03                    NaN         NaN         NaN\n",
      "WT08                      1           1           1\n"
     ]
    }
   ],
   "source": [
    "logging.debug(\"READING IN WEATHER DATA...\")\n",
    "weather = pd.read_csv(\"Input/weather.csv\")\n",
    "\n",
    "delete = [\"STATION\",\"NAME\",\"LATITUDE\",\"LONGITUDE\",\"ELEVATION\",\"AWND_ATTRIBUTES\",\"PGTM\",\"PGTM_ATTRIBUTES\",\n",
    "          \"PRCP_ATTRIBUTES\",\"SNOW_ATTRIBUTES\",\"SNWD_ATTRIBUTES\",\"TAVG_ATTRIBUTES\",\"TMAX_ATTRIBUTES\",\"TMIN_ATTRIBUTES\",\n",
    "          \"WDF2\",\"WDF2_ATTRIBUTES\",\"WDF5\",\"WDF5_ATTRIBUTES\",\"WSF2\",\"WSF2_ATTRIBUTES\",\"WSF5\",\"WSF5_ATTRIBUTES\",\n",
    "          \"WT01_ATTRIBUTES\",\"WT02_ATTRIBUTES\",\"WT03_ATTRIBUTES\",\"WT08_ATTRIBUTES\"]\n",
    "\n",
    "weather.drop(delete, axis=1, inplace=True)\n",
    "\n",
    "target_2016_df = pd.merge(target_2016_df, weather, left_on=['transactiondate'], right_on=['DATE'])\n",
    "target_2017_df = pd.merge(target_2017_df, weather, left_on=['transactiondate'], right_on=['DATE'])\n",
    "\n",
    "logging.debug(target_2017_df.head(3).transpose())"
   ]
  },
  {
   "cell_type": "code",
   "execution_count": 10,
   "metadata": {},
   "outputs": [],
   "source": [
    "del target_2016_df['DATE']\n",
    "del target_2017_df['DATE']"
   ]
  },
  {
   "cell_type": "code",
   "execution_count": 13,
   "metadata": {},
   "outputs": [
    {
     "data": {
      "image/png": "[encoded data removed]",
      "text/plain": [
       "<Figure size 864x1296 with 1 Axes>"
      ]
     },
     "metadata": {},
     "output_type": "display_data"
    }
   ],
   "source": [
    "missing_df = target_2016_df.isnull().sum(axis=0).reset_index()\n",
    "missing_df.columns = ['column_name', 'missing_count']\n",
    "missing_df = missing_df.loc[missing_df['missing_count']>0]\n",
    "missing_df = missing_df.sort_values(by='missing_count')\n",
    "\n",
    "ind = np.arange(missing_df.shape[0])\n",
    "width = 0.9\n",
    "fig, ax = plt.subplots(figsize=(12,18))\n",
    "rects = ax.barh(ind, missing_df.missing_count.values, color='blue')\n",
    "ax.set_yticks(ind)\n",
    "ax.set_yticklabels(missing_df.column_name.values, rotation='horizontal')\n",
    "ax.set_xlabel(\"Count of missing values\")\n",
    "ax.set_title(\"Number of missing values in each column\")\n",
    "plt.show()"
   ]
  },
  {
   "cell_type": "code",
   "execution_count": 14,
   "metadata": {},
   "outputs": [
    {
     "data": {
      "image/png": "[encoded data removed]",
      "text/plain": [
       "<Figure size 864x1296 with 1 Axes>"
      ]
     },
     "metadata": {},
     "output_type": "display_data"
    }
   ],
   "source": [
    "missing_df = target_2017_df.isnull().sum(axis=0).reset_index()\n",
    "missing_df.columns = ['column_name', 'missing_count']\n",
    "missing_df = missing_df.loc[missing_df['missing_count']>0]\n",
    "missing_df = missing_df.sort_values(by='missing_count')\n",
    "\n",
    "ind = np.arange(missing_df.shape[0])\n",
    "width = 0.9\n",
    "fig, ax = plt.subplots(figsize=(12,18))\n",
    "rects = ax.barh(ind, missing_df.missing_count.values, color='blue')\n",
    "ax.set_yticks(ind)\n",
    "ax.set_yticklabels(missing_df.column_name.values, rotation='horizontal')\n",
    "ax.set_xlabel(\"Count of missing values\")\n",
    "ax.set_title(\"Number of missing values in each column\")\n",
    "plt.show()"
   ]
  },
  {
   "cell_type": "markdown",
   "metadata": {},
   "source": [
    "_We're missing just a few weather values... Probably from days that did not have those attributes. Let's fill them in with 0's._"
   ]
  },
  {
   "cell_type": "code",
   "execution_count": 15,
   "metadata": {},
   "outputs": [],
   "source": [
    "target_2016_df['WT03'] = target_2016_df['WT03'].fillna(0)\n",
    "target_2017_df['WT03'] = target_2017_df['WT03'].fillna(0)\n",
    "\n",
    "target_2016_df['WT02'] = target_2016_df['WT02'].fillna(0)\n",
    "target_2017_df['WT02'] = target_2017_df['WT02'].fillna(0)\n",
    "\n",
    "target_2016_df['WT01'] = target_2016_df['WT01'].fillna(0)\n",
    "target_2017_df['WT01'] = target_2017_df['WT01'].fillna(0)\n",
    "\n",
    "target_2016_df['WT08'] = target_2016_df['WT08'].fillna(0)\n",
    "target_2017_df['WT08'] = target_2017_df['WT08'].fillna(0)\n",
    "\n",
    "target_2016_df['SNOW'] = target_2016_df['SNOW'].fillna(0)\n",
    "target_2017_df['SNOW'] = target_2017_df['SNOW'].fillna(0)\n",
    "\n",
    "target_2016_df['AWND'] = target_2016_df['AWND'].fillna(0)\n",
    "target_2017_df['AWND'] = target_2017_df['AWND'].fillna(0)"
   ]
  },
  {
   "cell_type": "code",
   "execution_count": 16,
   "metadata": {},
   "outputs": [
    {
     "name": "stderr",
     "output_type": "stream",
     "text": [
      "DEBUG:root:                          0           1           2\n",
      "parcelid           11016594    14366692    12098116\n",
      "logerror             0.0276     -0.1684      -0.004\n",
      "transactiondate  2016-01-01  2016-01-01  2016-01-01\n",
      "weekday                   4           4           4\n",
      "year                   2016        2016        2016\n",
      "month                     1           1           1\n",
      "day                       1           1           1\n",
      "holiday                   1           1           1\n",
      "AWND                   4.03        4.03        4.03\n",
      "PRCP                      0           0           0\n",
      "SNOW                      0           0           0\n",
      "SNWD                      0           0           0\n",
      "TAVG                     54          54          54\n",
      "TMAX                     67          67          67\n",
      "TMIN                     42          42          42\n",
      "WT01                      0           0           0\n",
      "WT02                      0           0           0\n",
      "WT03                      0           0           0\n",
      "WT08                      0           0           0\n",
      "DEBUG:root:                          0           1           2\n",
      "parcelid           14297519    17052889    14186244\n",
      "logerror          0.0255949   0.0556191  0.00538285\n",
      "transactiondate  2017-01-01  2017-01-01  2017-01-01\n",
      "weekday                   6           6           6\n",
      "year                   2017        2017        2017\n",
      "month                     1           1           1\n",
      "day                       1           1           1\n",
      "holiday                   0           0           0\n",
      "AWND                   3.13        3.13        3.13\n",
      "PRCP                      0           0           0\n",
      "SNOW                      0           0           0\n",
      "SNWD                      0           0           0\n",
      "TAVG                     50          50          50\n",
      "TMAX                     58          58          58\n",
      "TMIN                     42          42          42\n",
      "WT01                      1           1           1\n",
      "WT02                      0           0           0\n",
      "WT03                      0           0           0\n",
      "WT08                      1           1           1\n"
     ]
    }
   ],
   "source": [
    "logging.debug(target_2016_df.head(3).transpose())\n",
    "logging.debug(target_2017_df.head(3).transpose())"
   ]
  },
  {
   "cell_type": "markdown",
   "metadata": {},
   "source": [
    "_Now let's write these datasets out._"
   ]
  },
  {
   "cell_type": "code",
   "execution_count": 17,
   "metadata": {},
   "outputs": [],
   "source": [
    "target_2016_df.to_csv(\"Input/train_2016_mod.csv\", sep=',', encoding='utf-8', index=False)\n",
    "target_2017_df.to_csv(\"Input/train_2017_mod.csv\", sep=',', encoding='utf-8', index=False)"
   ]
  },
  {
   "cell_type": "code",
   "execution_count": null,
   "metadata": {},
   "outputs": [],
   "source": []
  },
  {
   "cell_type": "code",
   "execution_count": null,
   "metadata": {},
   "outputs": [],
   "source": []
  },
  {
   "cell_type": "code",
   "execution_count": null,
   "metadata": {},
   "outputs": [],
   "source": []
  },
  {
   "cell_type": "code",
   "execution_count": null,
   "metadata": {},
   "outputs": [],
   "source": []
  },
  {
   "cell_type": "code",
   "execution_count": null,
   "metadata": {},
   "outputs": [],
   "source": []
  },
  {
   "cell_type": "code",
   "execution_count": null,
   "metadata": {},
   "outputs": [],
   "source": []
  },
  {
   "cell_type": "code",
   "execution_count": null,
   "metadata": {},
   "outputs": [],
   "source": []
  },
  {
   "cell_type": "code",
   "execution_count": null,
   "metadata": {},
   "outputs": [],
   "source": []
  },
  {
   "cell_type": "code",
   "execution_count": null,
   "metadata": {},
   "outputs": [],
   "source": []
  },
  {
   "cell_type": "code",
   "execution_count": null,
   "metadata": {},
   "outputs": [],
   "source": [
    "# now we can go through the dates in order and plot the logerrors\n",
    "logerror = []\n",
    "parcelid = []\n",
    "transactiondate = []\n",
    "\n",
    "for date in unique_dates:\n",
    "    for data in accumulated_values[date]:\n",
    "        transactiondate.append(date)\n",
    "        parcelid.append(data[0])\n",
    "        logerror.append(data[1])\n",
    "        \n",
    "plt.close()\n",
    "plt.scatter(transactiondate, logerror)\n",
    "plt.show()"
   ]
  },
  {
   "cell_type": "markdown",
   "metadata": {},
   "source": [
    "_There appear to be a few values that are *way* off. Let's try separating some of those outliers. For now we will use simple inspection to determine outliers. Any point with log error > 2 or < -2 will be labelled an outlier_"
   ]
  },
  {
   "cell_type": "code",
   "execution_count": null,
   "metadata": {},
   "outputs": [],
   "source": [
    "# we will use numpy to find the median, 25th, and 75th percentiles for the log errors\n",
    "# 1.5 IQR analysis\n",
    "\n",
    "# logerror_np = np.array(logerror)\n",
    "\n",
    "# logerror_median = np.percentile(logerror_np, 50)\n",
    "# logerror_25 = np.percentile(logerror_np, 25)\n",
    "# logerror_75 = np.percentile(logerror_np, 75)\n",
    "# logerror_iqr = logerror_75 - logerror_25\n",
    "\n",
    "# logging.debug(\"Median: {}, 25th: {}, 75th: {}, IQR: {}\".format(logerror_median, logerror_25, logerror_75, logerror_iqr))"
   ]
  },
  {
   "cell_type": "code",
   "execution_count": null,
   "metadata": {},
   "outputs": [],
   "source": [
    "# logerror_upper = logerror_75 + 1.5*logerror_iqr\n",
    "# logerror_lower = logerror_25 - 1.5*logerror_iqr\n",
    "\n",
    "# logging.debug(\"Lower bound: {}, Upper bound: {}\".format(logerror_lower, logerror_upper))"
   ]
  },
  {
   "cell_type": "code",
   "execution_count": null,
   "metadata": {},
   "outputs": [],
   "source": [
    "# split up the data into the two groups\n",
    "logerror_behaved = []\n",
    "logerror_outlier = []\n",
    "transactiondate_behaved = []\n",
    "transactiondate_outlier = []\n",
    "parcelid_behaved = []\n",
    "parcelid_outlier = []\n",
    "outlier = [0] * len(logerror)\n",
    "\n",
    "for i in range(len(logerror)):\n",
    "    if logerror[i] > -2 and logerror[i] < 2:\n",
    "        logerror_behaved.append(logerror[i])\n",
    "        transactiondate_behaved.append(transactiondate[i])\n",
    "        parcelid_behaved.append(parcelid[i])\n",
    "    else:\n",
    "        outlier[i] = 1\n",
    "        logerror_outlier.append(logerror[i])\n",
    "        transactiondate_outlier.append(transactiondate[i])\n",
    "        parcelid_outlier.append(parcelid[i])\n",
    "        \n",
    "targets['outlier'] = np.array(outlier)\n",
    "        \n",
    "logging.debug(\"Behaved No.: {}, Behaved %: {}, Outlier No.: {}, Outlier %: {}, Total No.: {}\".format(len(logerror_behaved), len(logerror_behaved)/len(logerror)*100, len(logerror_outlier), len(logerror_outlier)/len(logerror)*100, len(logerror)))"
   ]
  },
  {
   "cell_type": "code",
   "execution_count": null,
   "metadata": {},
   "outputs": [],
   "source": [
    "# visualize the behaved data\n",
    "plt.close()\n",
    "plt.scatter(transactiondate_behaved, logerror_behaved)\n",
    "plt.show()"
   ]
  },
  {
   "cell_type": "code",
   "execution_count": null,
   "metadata": {},
   "outputs": [],
   "source": [
    "# visualize the outlier data\n",
    "plt.close()\n",
    "plt.scatter(transactiondate_outlier, logerror_outlier)\n",
    "plt.show()"
   ]
  },
  {
   "cell_type": "markdown",
   "metadata": {},
   "source": [
    "_So a little more than 0.12% of the sales transactions are \"outliers\"._"
   ]
  },
  {
   "cell_type": "code",
   "execution_count": null,
   "metadata": {},
   "outputs": [],
   "source": [
    "# next we will convert the two datasets back into pandas frames for further use\n",
    "data_behaved = {\"parcelid\": parcelid_behaved, \"logerror\": logerror_behaved, \"transactiondate\": transactiondate_behaved}\n",
    "targets_behaved = pd.DataFrame(data_behaved)\n",
    "\n",
    "logging.debug(targets_behaved)"
   ]
  },
  {
   "cell_type": "code",
   "execution_count": null,
   "metadata": {},
   "outputs": [],
   "source": [
    "data_outlier = {\"parcelid\": parcelid_outlier, \"logerror\": logerror_outlier, \"transactiondate\": transactiondate_outlier}\n",
    "targets_outlier = pd.DataFrame(data_outlier)\n",
    "\n",
    "logging.debug(targets_outlier)"
   ]
  },
  {
   "cell_type": "code",
   "execution_count": null,
   "metadata": {},
   "outputs": [],
   "source": [
    "logging.debug(targets)"
   ]
  },
  {
   "cell_type": "markdown",
   "metadata": {},
   "source": [
    "!!! NOTE TO SELF: INSTEAD OF FILTERING BY OUTLIER, COULD BE COOL TO A ONE-DIMENSIONAL CLUSTERING BASED ON LOGERRORS TO CREATE MULTIPLE CLASSES THAT ROUGHLY CORRESPOND TO \"WAY HIGH\", \"HIGH\", \"CLOSE\", \"LOW\", AND \"WAY LOW\".!!!"
   ]
  },
  {
   "cell_type": "markdown",
   "metadata": {},
   "source": [
    "_Now that we have two classes of transactions let's add a new variable to the parcels to indicate whether it is part of a well-behaved transaction or an outlier._"
   ]
  },
  {
   "cell_type": "code",
   "execution_count": null,
   "metadata": {},
   "outputs": [],
   "source": [
    "# first we need to create unique sets of parcelids for behaved and outlier\n",
    "parcelid_behaved_set = set(parcelid_behaved)\n",
    "parcelid_outlier_set = set(parcelid_outlier)\n",
    "\n",
    "parcelid_intersection = set(parcelid_behaved_set & parcelid_outlier_set)\n",
    "logging.debug(\"{}\".format(parcelid_intersection))"
   ]
  },
  {
   "cell_type": "code",
   "execution_count": null,
   "metadata": {},
   "outputs": [],
   "source": [
    "# for the few parcelid's that are in both behaved and outlier transactions, we will default those to behaved\n",
    "parcelid_outlier_set = parcelid_outlier_set - parcelid_intersection\n",
    "parcelid_set = set(parcelid)\n",
    "\n",
    "logging.debug(\"Behaved No.: {}, Behaved %: {}, Outlier No.: {}, Outlier %: {}, Total No.: {}\".format(len(parcelid_behaved_set), len(parcelid_behaved_set)/len(parcelid_set)*100, len(parcelid_outlier_set), len(parcelid_outlier_set)/len(parcelid_set)*100, len(parcelid_set)))"
   ]
  },
  {
   "cell_type": "code",
   "execution_count": null,
   "metadata": {
    "scrolled": false
   },
   "outputs": [],
   "source": [
    "outlier = [0]*properties.__len__()\n",
    "i = 0\n",
    "\n",
    "logging.debug(\"LABELING OUTLIERS...\")\n",
    "for id, row in properties.iterrows():\n",
    "    \n",
    "    if i % 100000 == 0:\n",
    "        logging.debug(\"SAMPLE {}...\".format(i))\n",
    "        \n",
    "    p = row['parcelid']\n",
    "    \n",
    "    if p in parcelid_outlier_set:\n",
    "        outlier[i] = 1\n",
    "    \n",
    "    i +=1\n",
    "    \n",
    "new = {'outlier': outlier}\n",
    "\n",
    "logging.debug(\"ADDING NEW FEATURE TO DATA...\")\n",
    "properties['outlier'] = np.array(outlier)\n",
    "logging.debug(properties)"
   ]
  },
  {
   "cell_type": "code",
   "execution_count": null,
   "metadata": {},
   "outputs": [],
   "source": [
    "weekday_sum = [0] * 7\n",
    "weekday_abssum = [0] * 7\n",
    "weekday_count = [0] * 7\n",
    "for id, row in targets.iterrows():\n",
    "    day = row['weekday']\n",
    "    val = row['logerror']\n",
    "    outl = row['outlier']\n",
    "    \n",
    "    if not outl:\n",
    "        weekday_sum[day] += val\n",
    "        weekday_abssum[day] += abs(val)\n",
    "        weekday_count[day] += 1\n",
    "    \n",
    "for i in range(7):\n",
    "    weekday_sum[i] /= weekday_count[i] if weekday_count[i] != 0 else 1\n",
    "    weekday_abssum[i] /= weekday_count[i] if weekday_count[i] != 0 else 1\n",
    "    \n",
    "objects = ['Mon', 'Tue', 'Wed', 'Thu', 'Fri', 'Sat', 'Sun']"
   ]
  },
  {
   "cell_type": "code",
   "execution_count": null,
   "metadata": {},
   "outputs": [],
   "source": [
    "plt.close()\n",
    "plt.plot(weekday_sum)\n",
    "plt.show()"
   ]
  },
  {
   "cell_type": "code",
   "execution_count": null,
   "metadata": {},
   "outputs": [],
   "source": [
    "plt.close()\n",
    "plt.plot(weekday_abssum)\n",
    "plt.show()"
   ]
  },
  {
   "cell_type": "code",
   "execution_count": null,
   "metadata": {},
   "outputs": [],
   "source": [
    "month_sum = [0] * 12\n",
    "month_abssum = [0] * 12\n",
    "month_count = [0] * 12\n",
    "for id, row in targets.iterrows():\n",
    "    month = int(row['transactiondate'].split('-')[1]) - 1\n",
    "    val = row['logerror']\n",
    "    outl = row['outlier']\n",
    "    \n",
    "    if not outl:\n",
    "        month_sum[month] += val\n",
    "        month_abssum[month] += abs(val)\n",
    "        month_count[month] += 1\n",
    "    \n",
    "for i in range(12):\n",
    "    month_sum[i] /= month_count[i] if month_count[i] != 0 else 1\n",
    "    month_abssum[i] /= month_count[i] if month_count[i] != 0 else 1\n",
    "    \n",
    "month_obj = ['Jan', 'Feb', 'Mar', 'Apr', 'May', 'Jun', 'Jul', 'Aug', 'Sep', 'Oct', 'Nov', 'Dec']"
   ]
  },
  {
   "cell_type": "code",
   "execution_count": null,
   "metadata": {},
   "outputs": [],
   "source": [
    "plt.close()\n",
    "plt.plot(month_sum)\n",
    "plt.show()"
   ]
  },
  {
   "cell_type": "code",
   "execution_count": null,
   "metadata": {},
   "outputs": [],
   "source": [
    "plt.close()\n",
    "plt.plot(month_abssum)\n",
    "plt.show()"
   ]
  },
  {
   "cell_type": "code",
   "execution_count": null,
   "metadata": {},
   "outputs": [],
   "source": [
    "monthday_sum = np.zeros((12, 7))\n",
    "monthday_abssum = np.zeros((12, 7))\n",
    "monthday_count = np.zeros((12, 7))\n",
    "\n",
    "for id, row in targets.iterrows():\n",
    "    month = int(row['transactiondate'].split('-')[1]) - 1\n",
    "    day = row['weekday']\n",
    "    val = row['logerror']\n",
    "    outl = row['outlier']\n",
    "    \n",
    "    monthday_sum[month, day] += val\n",
    "    monthday_abssum[month, day] += abs(val)\n",
    "    monthday_count[month, day] += 1\n",
    "    \n",
    "for i in range(12):\n",
    "    for j in range(7):\n",
    "        monthday_sum[i, j] /= monthday_count[i, j]\n",
    "        monthday_abssum[i, j] /= monthday_count[i, j]"
   ]
  },
  {
   "cell_type": "code",
   "execution_count": null,
   "metadata": {},
   "outputs": [],
   "source": [
    "from mpl_toolkits.mplot3d import Axes3D\n",
    "\n",
    "plt.close()\n",
    "fig = plt.figure()\n",
    "ax = fig.add_subplot(111, projection='3d')\n",
    "i = 0\n",
    "for z in month_obj:\n",
    "    xs = np.arange(12)\n",
    "\n",
    "    # You can provide either a single color or an array. To demonstrate this,\n",
    "    # the first bar of each set will be colored cyan.\n",
    "    ax.bar(objects, monthday_sum[i], zs=xs[i], zdir='y')\n",
    "    i += 1\n",
    "\n",
    "ax.set_xlabel('Day')\n",
    "ax.set_ylabel('Month')\n",
    "ax.set_zlabel('MALE')\n",
    "\n",
    "plt.show()"
   ]
  },
  {
   "cell_type": "code",
   "execution_count": null,
   "metadata": {},
   "outputs": [],
   "source": [
    "plt.close()\n",
    "fig = plt.figure()\n",
    "ax = fig.add_subplot(111, projection='3d')\n",
    "i = 0\n",
    "for z in month_obj:\n",
    "    xs = np.arange(12)\n",
    "\n",
    "    # You can provide either a single color or an array. To demonstrate this,\n",
    "    # the first bar of each set will be colored cyan.\n",
    "    ax.bar(objects, monthday_abssum[i], zs=xs[i], zdir='y')\n",
    "    i += 1\n",
    "\n",
    "ax.set_xlabel('Day')\n",
    "ax.set_ylabel('Month')\n",
    "ax.set_zlabel('MALE')\n",
    "\n",
    "plt.show()"
   ]
  },
  {
   "cell_type": "code",
   "execution_count": null,
   "metadata": {},
   "outputs": [],
   "source": [
    "plt.close()\n",
    "fig = plt.figure()\n",
    "ax = fig.add_subplot(111, projection='3d')\n",
    "i = 0\n",
    "for z in objects:\n",
    "    xs = np.arange(7)\n",
    "\n",
    "    # You can provide either a single color or an array. To demonstrate this,\n",
    "    # the first bar of each set will be colored cyan.\n",
    "    ax.bar(month_obj, monthday_sum[:,i], zs=xs[i], zdir='y')\n",
    "    i += 1\n",
    "\n",
    "ax.set_xlabel('Month')\n",
    "ax.set_ylabel('Day')\n",
    "ax.set_zlabel('MALE')\n",
    "\n",
    "plt.show()"
   ]
  },
  {
   "cell_type": "code",
   "execution_count": null,
   "metadata": {},
   "outputs": [],
   "source": [
    "plt.close()\n",
    "fig = plt.figure()\n",
    "ax = fig.add_subplot(111, projection='3d')\n",
    "i = 0\n",
    "for z in objects:\n",
    "    xs = np.arange(7)\n",
    "\n",
    "    # You can provide either a single color or an array. To demonstrate this,\n",
    "    # the first bar of each set will be colored cyan.\n",
    "    ax.bar(month_obj, monthday_abssum[:,i], zs=xs[i], zdir='y')\n",
    "    i += 1\n",
    "\n",
    "ax.set_xlabel('Month')\n",
    "ax.set_ylabel('Day')\n",
    "ax.set_zlabel('MALE')\n",
    "\n",
    "plt.show()"
   ]
  },
  {
   "cell_type": "code",
   "execution_count": null,
   "metadata": {},
   "outputs": [],
   "source": [
    "plt.close()\n",
    "plt.imshow(np.array(monthday_sum.transpose()), cmap='coolwarm', interpolation='nearest')\n",
    "plt.show()"
   ]
  },
  {
   "cell_type": "code",
   "execution_count": null,
   "metadata": {},
   "outputs": [],
   "source": [
    "plt.close()\n",
    "plt.imshow(np.array(monthday_abssum.transpose()), cmap='coolwarm', interpolation='nearest')\n",
    "plt.show()"
   ]
  },
  {
   "cell_type": "code",
   "execution_count": null,
   "metadata": {},
   "outputs": [],
   "source": []
  }
 ],
 "metadata": {
  "kernelspec": {
   "display_name": "Python 3",
   "language": "python",
   "name": "python3"
  },
  "language_info": {
   "codemirror_mode": {
    "name": "ipython",
    "version": 3
   },
   "file_extension": ".py",
   "mimetype": "text/x-python",
   "name": "python",
   "nbconvert_exporter": "python",
   "pygments_lexer": "ipython3",
   "version": "3.6.5"
  }
 },
 "nbformat": 4,
 "nbformat_minor": 2
}
